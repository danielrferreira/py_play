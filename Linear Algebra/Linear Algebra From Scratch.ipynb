{
 "cells": [
  {
   "cell_type": "markdown",
   "id": "f2f3db6c-a511-4a66-a04a-b23ec1ce503e",
   "metadata": {},
   "source": [
    "## Linear Algebra from scratch\n",
    "This notebook recriates some of the most used Linear Algebra methods. It is not aiming to replace the original numpy methods. It is just for educational purpouse. \n",
    "- Norm of a vector\n",
    "- Dot Product of two vectors\n",
    "- Cross Product of two vectors\n",
    "- Angle between two vectors\n",
    "- Projection of a vector into another vector\n",
    "- Determinant of a Matrix\n",
    "- Eigen Decomposition"
   ]
  },
  {
   "cell_type": "code",
   "execution_count": 29,
   "id": "364277fe-d2f4-430a-b2c5-634bb97e6377",
   "metadata": {},
   "outputs": [],
   "source": [
    "import numpy as np\n",
    "import math"
   ]
  },
  {
   "cell_type": "markdown",
   "id": "014f6bce-ae8f-4de4-8300-ea58746bb8e9",
   "metadata": {},
   "source": [
    "***\n",
    "***Norm of a vector***\n",
    "***"
   ]
  },
  {
   "cell_type": "code",
   "execution_count": 30,
   "id": "dd780123-dae7-4f8b-a58c-5ada9b547218",
   "metadata": {},
   "outputs": [
    {
     "name": "stdout",
     "output_type": "stream",
     "text": [
      "8.94427190999916\n"
     ]
    }
   ],
   "source": [
    "a = np.array([8,4])\n",
    "length = math.sqrt((8**2)+(4**2))\n",
    "print(length)"
   ]
  },
  {
   "cell_type": "code",
   "execution_count": 31,
   "id": "1fa859ce-5120-4325-b645-ecf5ed49f897",
   "metadata": {},
   "outputs": [
    {
     "name": "stdout",
     "output_type": "stream",
     "text": [
      "8.94427190999916\n"
     ]
    }
   ],
   "source": [
    "x = np.linalg.norm(a)\n",
    "print(x)"
   ]
  },
  {
   "cell_type": "markdown",
   "id": "e23382c5-d37b-4f2f-9966-59e358b91dc3",
   "metadata": {},
   "source": [
    "***\n",
    "***Dot Product.***\n",
    "***"
   ]
  },
  {
   "cell_type": "code",
   "execution_count": 32,
   "id": "714f3755-e9d0-4362-b6fd-dee415aa456a",
   "metadata": {},
   "outputs": [
    {
     "name": "stdout",
     "output_type": "stream",
     "text": [
      "50\n"
     ]
    }
   ],
   "source": [
    "x = [1,2,3,4]\n",
    "y = [3,4,5,6]\n",
    "\n",
    "result = 0\n",
    "for i in range(len(x)):\n",
    "    result+=x[i]*y[i]\n",
    "print(result)"
   ]
  },
  {
   "cell_type": "code",
   "execution_count": 33,
   "id": "ea203bb8-a8bc-4924-af42-3568a37eaaf0",
   "metadata": {},
   "outputs": [
    {
     "data": {
      "text/plain": [
       "50"
      ]
     },
     "execution_count": 33,
     "metadata": {},
     "output_type": "execute_result"
    }
   ],
   "source": [
    "np.dot(np.array(x),np.array(y))"
   ]
  },
  {
   "cell_type": "markdown",
   "id": "f1100de2-684f-45cf-b8d3-8f3f192465ed",
   "metadata": {},
   "source": [
    "***\n",
    "***Cross Product***\n",
    "***"
   ]
  },
  {
   "cell_type": "code",
   "execution_count": 34,
   "id": "ea913a43-51be-466e-9f82-fc4753051165",
   "metadata": {},
   "outputs": [
    {
     "name": "stdout",
     "output_type": "stream",
     "text": [
      "u x v coordinates are: [30, 5, -8]\n",
      "|u x v| = 31.448370387032774\n",
      "The angle between w and u is 90.0 degrees\n",
      "The angle between w and v is 90.0 degrees\n"
     ]
    }
   ],
   "source": [
    "# Using only math module\n",
    "u = [1,2,5]\n",
    "v = [2,-4,5]\n",
    "norm_u = math.sqrt(u[0]**2+u[1]**2+u[2]**2)\n",
    "norm_v = math.sqrt(v[0]**2+v[1]**2+v[2]**2)\n",
    "w = [u[1]*v[2]-u[2]*v[1],-u[0]*v[2]+u[2]*v[0],u[0]*v[1]-u[1]*v[0]]\n",
    "print(f'u x v coordinates are: {w}')\n",
    "norm_w = math.sqrt(w[0]**2+w[1]**2+w[2]**2)\n",
    "print(f'|u x v| = {norm_w}')\n",
    "dot_wu = w[0]*u[0]+w[1]*u[1]+w[2]*u[2]\n",
    "dot_wv = w[0]*v[0]+w[1]*v[1]+w[2]*v[2]\n",
    "angle_wu = math.acos(dot_wu/(norm_w*norm_u))\n",
    "angle_wv = math.acos(dot_wv/(norm_w*norm_v))\n",
    "print(f'The angle between w and u is {math.degrees(angle_wu)} degrees')\n",
    "print(f'The angle between w and v is {math.degrees(angle_wv)} degrees')"
   ]
  },
  {
   "cell_type": "code",
   "execution_count": 35,
   "id": "578cb0cc-9176-4d06-9db0-e5f42a3235d1",
   "metadata": {},
   "outputs": [
    {
     "name": "stdout",
     "output_type": "stream",
     "text": [
      "u x v coordinates are: [30  5 -8]\n",
      "|u x v| = 31.448370387032774\n"
     ]
    }
   ],
   "source": [
    "u = np.array([1,2,5])\n",
    "v = np.array([2,-4,5])\n",
    "w = np.cross(u,v)\n",
    "print(f'u x v coordinates are: {w}')\n",
    "norm_w = np.linalg.norm(w)\n",
    "print(f'|u x v| = {norm_w}')"
   ]
  },
  {
   "cell_type": "markdown",
   "id": "febb4b00-3762-4407-aed1-6ba4c626454c",
   "metadata": {},
   "source": [
    "***\n",
    "***Angle***\n",
    "***"
   ]
  },
  {
   "cell_type": "code",
   "execution_count": 36,
   "id": "72bdd798-74cc-46aa-8ba7-1135bba7beb9",
   "metadata": {},
   "outputs": [
    {
     "name": "stdout",
     "output_type": "stream",
     "text": [
      "angle = 0.8320796291729496 rads\n",
      "angle_degrees = 47.67465097042062 degrees\n",
      "math.cos(angle) = 0.673339678200224\n"
     ]
    }
   ],
   "source": [
    "a = np.array([10,3,2,3])\n",
    "b = np.array([3,7,4,5])\n",
    "angle = math.acos((np.dot(a,b))/(np.linalg.norm(a)*np.linalg.norm(b)))\n",
    "angle_degrees = math.degrees(angle)\n",
    "print(f'{angle = } rads')\n",
    "print(f'{angle_degrees = } degrees')\n",
    "print(f'{math.cos(angle) = }')"
   ]
  },
  {
   "cell_type": "markdown",
   "id": "9b70d9cc-2378-4b1b-9d09-fcc3be95d094",
   "metadata": {},
   "source": [
    "***\n",
    "***Projection***\n",
    "***"
   ]
  },
  {
   "cell_type": "code",
   "execution_count": 37,
   "id": "af179b46-0fa5-40d3-98dc-ae5e519fc89e",
   "metadata": {},
   "outputs": [
    {
     "name": "stdout",
     "output_type": "stream",
     "text": [
      "[0.4 0.8 1. ]\n"
     ]
    }
   ],
   "source": [
    "a = np.array([1,-2,3])\n",
    "b = np.array([2,4,5])\n",
    "norm_b = np.linalg.norm(b)\n",
    "dot_ab = np.dot(a,b)\n",
    "norm_proj = dot_ab/norm_b\n",
    "proj = (norm_proj/norm_b)*b\n",
    "print(proj)"
   ]
  },
  {
   "cell_type": "markdown",
   "id": "53c86fbb-aa6f-4075-83f1-3f6328368fc9",
   "metadata": {},
   "source": [
    "***\n",
    "***Determinant.***\n",
    "***"
   ]
  },
  {
   "cell_type": "code",
   "execution_count": 38,
   "id": "78f5d06b-8314-4502-bcb5-5cd834cee2a3",
   "metadata": {},
   "outputs": [],
   "source": [
    "def determinant(A):\n",
    "    # Check if the matrix is squared and getting order\n",
    "    if len(A) == 1:\n",
    "        order = 1\n",
    "    else:\n",
    "        if len(A) == len(A[0]):\n",
    "            order = len(A)\n",
    "        else:\n",
    "            print(f'ERROR: Not a squared matrix')  \n",
    "            return None\n",
    "    \n",
    "    # If the matrix is 1x1, return the only element\n",
    "    if order == 1:\n",
    "        return A[0]\n",
    "\n",
    "    # If the matrix is 2x2, return the determinant\n",
    "    if order == 2:\n",
    "        return A[0][0] * A[1][1] - A[0][1] * A[1][0]\n",
    "\n",
    "    if order > 2:\n",
    "        det = 0\n",
    "        for i in range(0,order):\n",
    "            sub = np.delete(A[1:],i, axis=1)\n",
    "            sign = 1 if i % 2 == 0 else -1\n",
    "            det += sign * A[0][i] * determinant(sub)\n",
    "        return det\n"
   ]
  },
  {
   "cell_type": "code",
   "execution_count": 39,
   "id": "1e0bfbd2-291b-4f1d-8199-14a4154acd44",
   "metadata": {},
   "outputs": [],
   "source": [
    "def determinant_v2(A):\n",
    "    # Check if the matrix is squared and getting order\n",
    "    if len(A) == 1:\n",
    "        order=1\n",
    "    else:\n",
    "        if len(A)==len(A[0]):\n",
    "            order = len(A)\n",
    "        else:\n",
    "            print(f'ERROR: Not a squared matrix')  \n",
    "            return None\n",
    "    \n",
    "    # If the matrix is 1x1, return the only element\n",
    "    if order == 1:\n",
    "        return A[0]\n",
    "\n",
    "    # If the matrix is 2x2 or greater, return the determinant\n",
    "    if order>1:\n",
    "        det = 0\n",
    "        for i in range(0,order):\n",
    "            sub = np.delete(A[1:],i, axis=1)\n",
    "            sign = 1 if i % 2 == 0 else -1\n",
    "            det += sign * A[0][i] * determinant(sub)\n",
    "        return det"
   ]
  },
  {
   "cell_type": "code",
   "execution_count": 40,
   "id": "9ec52390-76bf-439a-a0bb-c8a0685befdc",
   "metadata": {},
   "outputs": [
    {
     "name": "stdout",
     "output_type": "stream",
     "text": [
      "[3]\n",
      "[3]\n",
      "3.0000000000000004\n"
     ]
    }
   ],
   "source": [
    "A = np.array([[3]])\n",
    "print(determinant(A))\n",
    "print(determinant_v2(A))\n",
    "print(np.linalg.det(A))"
   ]
  },
  {
   "cell_type": "code",
   "execution_count": 41,
   "id": "ca5bccb7-6516-4d94-8fbb-0147effb8fa8",
   "metadata": {},
   "outputs": [
    {
     "name": "stdout",
     "output_type": "stream",
     "text": [
      "-1.0\n",
      "[-1.]\n",
      "-1.0\n"
     ]
    }
   ],
   "source": [
    "A = np.array([[0,2],[0.5,0]])\n",
    "print(determinant(A))\n",
    "print(determinant_v2(A))\n",
    "print(np.linalg.det(A))"
   ]
  },
  {
   "cell_type": "code",
   "execution_count": 42,
   "id": "739434c4-4623-4ce9-a458-7298ccf7fdfd",
   "metadata": {},
   "outputs": [
    {
     "name": "stdout",
     "output_type": "stream",
     "text": [
      "146\n",
      "146\n",
      "146.0\n"
     ]
    }
   ],
   "source": [
    "A = np.array([ [4, 7, 2], [1, 5, 3], [8, 2, 6] ])\n",
    "print(determinant(A))\n",
    "print(determinant_v2(A))\n",
    "print(np.linalg.det(A))"
   ]
  },
  {
   "cell_type": "code",
   "execution_count": 43,
   "id": "e7c5e284-7b87-4892-8f49-dafaf47302e8",
   "metadata": {},
   "outputs": [
    {
     "name": "stdout",
     "output_type": "stream",
     "text": [
      "-696\n",
      "-696\n",
      "-695.9999999999995\n"
     ]
    }
   ],
   "source": [
    "A = np.array([ [4, 7, 2, 6], [1, 5, 3, 7], [8, 2, 6, 2], [3, 7, 1, 1] ])\n",
    "print(determinant(A))\n",
    "print(determinant_v2(A))\n",
    "print(np.linalg.det(A))"
   ]
  },
  {
   "cell_type": "markdown",
   "id": "151e02bc-a53f-4990-81e1-3b8cbc57f5a6",
   "metadata": {},
   "source": [
    "***\n",
    "***Eigenvalues and Eigenvectors.***\n",
    "***"
   ]
  },
  {
   "cell_type": "code",
   "execution_count": 44,
   "id": "f4d9097a-a539-4562-8aaf-35d5a2db8cc9",
   "metadata": {},
   "outputs": [],
   "source": [
    "from sympy import symbols, solve\n",
    "\n",
    "def alt_eig_value(A):\n",
    "    # Gets the order of matrix\n",
    "    order = len(A)\n",
    "\n",
    "    # Creates the matrix A-I*lambda\n",
    "    x = symbols('x')\n",
    "    I = np.eye(order)\n",
    "    B = A-I*x\n",
    "\n",
    "    #Find lambdasfor det(A-I*lambda)=0\n",
    "    eq = determinant(B)\n",
    "    solutions = solve(eq, x)\n",
    "    return solutions"
   ]
  },
  {
   "cell_type": "code",
   "execution_count": 45,
   "id": "74572165-e14a-4a59-9833-7677d76b23f8",
   "metadata": {},
   "outputs": [],
   "source": [
    "def alt_eig_vector(A):\n",
    "    # Gets the order of matrix\n",
    "    order = len(A)\n",
    "\n",
    "    # Gets the Eigen Values List\n",
    "    values = alt_eig_value(A)\n",
    "\n",
    "    print(f' Matrix has {len(values)} eigenvalues: {values}')\n",
    "    \n",
    "    # Creates an array with symbols for each coordinate\n",
    "    ev = [0]*order\n",
    "    for i in range(order):\n",
    "        ev[i] = symbols(\"x\" + str(i))\n",
    "    eig_vector = np.array(ev)\n",
    "\n",
    "    # The left side of the equation A*vector = value *vector\n",
    "    left_eq = np.matmul(A,eig_vector)\n",
    "\n",
    "    # The right side will change for each eigenvalue. This loop will crate a right side and solve for the respective eigenvalue\n",
    "    for v in values:\n",
    "        right_eq = v* eig_vector\n",
    "        eq = left_eq - right_eq\n",
    "        solution = solve(eq, ev)\n",
    "        print(f' For eigen value = {v}, any vector that follows {solution} is an eigenvector')\n"
   ]
  },
  {
   "cell_type": "code",
   "execution_count": 46,
   "id": "2505831b-ebb7-4b9d-b9db-569f83322f82",
   "metadata": {},
   "outputs": [
    {
     "name": "stdout",
     "output_type": "stream",
     "text": [
      " Matrix has 2 eigenvalues: [2.00000000000000, 3.00000000000000]\n",
      " For eigen value = 2.00000000000000, any vector that follows {x1: 0.0} is an eigenvector\n",
      " For eigen value = 3.00000000000000, any vector that follows {x0: x1} is an eigenvector\n"
     ]
    }
   ],
   "source": [
    "A = np.array([\n",
    "[2, 1],\n",
    "[0, 3]\n",
    "])\n",
    "alt_eig_vector(A)"
   ]
  },
  {
   "cell_type": "code",
   "execution_count": 47,
   "id": "1f383ad7-66a9-4a0d-92f6-4706e5dcc3be",
   "metadata": {},
   "outputs": [
    {
     "data": {
      "text/plain": [
       "EigResult(eigenvalues=array([2., 3.]), eigenvectors=array([[1.        , 0.70710678],\n",
       "       [0.        , 0.70710678]]))"
      ]
     },
     "execution_count": 47,
     "metadata": {},
     "output_type": "execute_result"
    }
   ],
   "source": [
    "np.linalg.eig(A)"
   ]
  },
  {
   "cell_type": "code",
   "execution_count": 48,
   "id": "6f59fac7-8ca6-48fe-8039-ecf73b66b7f7",
   "metadata": {},
   "outputs": [
    {
     "data": {
      "text/plain": [
       "0.9999999983219684"
      ]
     },
     "execution_count": 48,
     "metadata": {},
     "output_type": "execute_result"
    }
   ],
   "source": [
    "math.sqrt(0.70710678**2+0.70710678**2) # Showing norm of the numpy method eigenvector."
   ]
  },
  {
   "cell_type": "code",
   "execution_count": 49,
   "id": "b4b53cec-8271-49e8-84fe-a7e6db918a21",
   "metadata": {},
   "outputs": [
    {
     "name": "stdout",
     "output_type": "stream",
     "text": [
      " Matrix has 3 eigenvalues: [3.00000000000000, 4.00000000000000, 8.00000000000000]\n",
      " For eigen value = 3.00000000000000, any vector that follows {x0: 8.5*x2, x1: -1.5*x2} is an eigenvector\n",
      " For eigen value = 4.00000000000000, any vector that follows {x1: 0.0, x2: 0.0} is an eigenvector\n",
      " For eigen value = 8.00000000000000, any vector that follows {x0: 2.25*x2, x1: x2} is an eigenvector\n"
     ]
    }
   ],
   "source": [
    "A = np.array([ \n",
    "[4, 7, 2], \n",
    "[0, 5, 3], \n",
    "[0, 2, 6] \n",
    "])\n",
    "alt_eig_vector(A)"
   ]
  },
  {
   "cell_type": "code",
   "execution_count": 50,
   "id": "289cb0ed-68a2-4a1a-89e7-b5c65f80594d",
   "metadata": {},
   "outputs": [
    {
     "data": {
      "text/plain": [
       "EigResult(eigenvalues=array([4., 3., 8.]), eigenvectors=array([[ 1.        ,  0.97824007, -0.84664878],\n",
       "       [ 0.        , -0.1726306 , -0.37628835],\n",
       "       [ 0.        ,  0.11508707, -0.37628835]]))"
      ]
     },
     "execution_count": 50,
     "metadata": {},
     "output_type": "execute_result"
    }
   ],
   "source": [
    "np.linalg.eig(A)"
   ]
  },
  {
   "cell_type": "code",
   "execution_count": 51,
   "id": "16ea10af-c01b-4155-8950-f4d5b2bc7a7b",
   "metadata": {},
   "outputs": [
    {
     "data": {
      "text/plain": [
       "0.9999999961455749"
      ]
     },
     "execution_count": 51,
     "metadata": {},
     "output_type": "execute_result"
    }
   ],
   "source": [
    "math.sqrt(0.97824007**2+(-0.1726306)**2+0.11508707**2)"
   ]
  },
  {
   "cell_type": "code",
   "execution_count": 52,
   "id": "e91769b9-3fed-4a44-a958-954cf061ddaf",
   "metadata": {},
   "outputs": [
    {
     "name": "stdout",
     "output_type": "stream",
     "text": [
      " Matrix has 4 eigenvalues: [1.00000000000000, 2.00000000000000, 3.00000000000000, 4.00000000000000]\n",
      " For eigen value = 1.00000000000000, any vector that follows {x0: -0.333333333333333*x3, x1: 0.333333333333333*x3, x2: -0.666666666666667*x3} is an eigenvector\n",
      " For eigen value = 2.00000000000000, any vector that follows {x1: 0.0, x2: 0.0, x3: 0.0} is an eigenvector\n",
      " For eigen value = 3.00000000000000, any vector that follows {x0: x1, x2: 0.0, x3: 0.0} is an eigenvector\n",
      " For eigen value = 4.00000000000000, any vector that follows {x0: 0.5*x2, x1: x2, x3: 0.0} is an eigenvector\n"
     ]
    }
   ],
   "source": [
    "A = np.array([\n",
    "[2, 1, 0, 0],\n",
    "[0, 3, 1, 0],\n",
    "[0, 0, 4, 2],\n",
    "[0, 0, 0, 1]\n",
    "])\n",
    "alt_eig_vector(A)"
   ]
  },
  {
   "cell_type": "code",
   "execution_count": 53,
   "id": "35c5ec79-7b9c-4475-9204-db09105edb47",
   "metadata": {},
   "outputs": [
    {
     "data": {
      "text/plain": [
       "EigResult(eigenvalues=array([2., 3., 4., 1.]), eigenvectors=array([[ 1.        ,  0.70710678,  0.33333333, -0.25819889],\n",
       "       [ 0.        ,  0.70710678,  0.66666667,  0.25819889],\n",
       "       [ 0.        ,  0.        ,  0.66666667, -0.51639778],\n",
       "       [ 0.        ,  0.        ,  0.        ,  0.77459667]]))"
      ]
     },
     "execution_count": 53,
     "metadata": {},
     "output_type": "execute_result"
    }
   ],
   "source": [
    "np.linalg.eig(A)"
   ]
  }
 ],
 "metadata": {
  "kernelspec": {
   "display_name": "Python 3 (ipykernel)",
   "language": "python",
   "name": "python3"
  },
  "language_info": {
   "codemirror_mode": {
    "name": "ipython",
    "version": 3
   },
   "file_extension": ".py",
   "mimetype": "text/x-python",
   "name": "python",
   "nbconvert_exporter": "python",
   "pygments_lexer": "ipython3",
   "version": "3.11.4"
  }
 },
 "nbformat": 4,
 "nbformat_minor": 5
}
